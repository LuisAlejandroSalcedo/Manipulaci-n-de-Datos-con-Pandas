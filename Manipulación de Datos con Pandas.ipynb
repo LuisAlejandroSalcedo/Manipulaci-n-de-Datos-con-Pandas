{
 "cells": [
  {
   "cell_type": "markdown",
   "metadata": {},
   "source": [
    "# Manipulación de Datos con Pandas\n",
    "Bienvenidos a Mi Diario Python. Mi nombre es Luis y es un placer estar nuevamente aquí. \n",
    "\n",
    "En el articulo de hoy veremos algunos ejemplos para la manipulación de datos, creación de DataFrame y archivos CSV. \n",
    "Todo esto lo haremos con ayuda de la libreria Pandas, la cual puedes descargar ingresando al siguiente enlace: \n",
    "\n",
    "O introduciendo el siguiente comando en tu consola: pip install pandas\n",
    "\n",
    "Antes de proseguir dejame invitarte ha hechar un vistazo a nuestro curso para __Aprender Python__ y nuestros articulos __Ejercicios de Programación__ en el cual podras reforzar todas tus habilidades como programador.\n",
    "\n",
    "# Manipulación de Datos - Pandas:\n",
    "Pandas es una libreria escrita en python utiliza para el analisis de datos y la estadistica. Pandas nos permite crear DataFrames, los cuales son tablas de datos ordenados por columnas. El formato CSV es el más para guardar y leer conjuntos de datos, pandas nos permite leer este tipo de archivo de manera muy sencilla.\n",
    "\n",
    "¿Que les parece si damos los primeros pasos con pandas?. Crearemos nuestro primero DataFrame.\n",
    "\n",
    "## Creación de un DataFrame:\n",
    "Para crear nuestro DataFrame, lo primero que haremos sera importar la libreria Pandas y escoger los datos que queremos guardar en el.\n"
   ]
  },
  {
   "cell_type": "code",
   "execution_count": 1,
   "metadata": {},
   "outputs": [
    {
     "name": "stdout",
     "output_type": "stream",
     "text": [
      "   Nombre  Edad Genero    Id\n",
      "0  Carmen    26      F  1743\n",
      "1   Pedro    39      M  9264\n",
      "2   Maria    28      F  8362\n",
      "3   Julio    35      M  2537\n"
     ]
    }
   ],
   "source": [
    "import pandas as pd # importamos pandas\n",
    "\n",
    "columnas = ['Nombre', 'Edad', 'Genero', 'Id'] # Columnas del DataFrame\n",
    "\n",
    "datos = pd.DataFrame([['Carmen', 26, 'F', 1743],\n",
    "                      ['Pedro', 39, 'M', 9264],\n",
    "                      ['Maria', 28, 'F', 8362],\n",
    "                      ['Julio', 35, 'M', 2537]],\n",
    "                      columns=columnas)\n",
    "print(datos)"
   ]
  },
  {
   "cell_type": "markdown",
   "metadata": {},
   "source": [
    "Y como pueden observar, el resultado son nuestros datos ordenado. Genial ¿No lo crees?.\n",
    "\n",
    "No nos limitemos a crear un solo DataFrame. Podemos crear todos los que deseemos."
   ]
  },
  {
   "cell_type": "code",
   "execution_count": 2,
   "metadata": {},
   "outputs": [
    {
     "name": "stdout",
     "output_type": "stream",
     "text": [
      "     Nombre  Edad Genero    Id\n",
      "0  Gabriela    27      F  1736\n",
      "1    Carlos    36      M  3524\n",
      "2    Samuel    22      M  9837\n",
      "3      Jhon    29      M  7367\n"
     ]
    }
   ],
   "source": [
    "import pandas as pd # importamos pandas\n",
    "\n",
    "columnas = ['Nombre', 'Edad', 'Genero', 'Id'] # Columnas del DataFrame\n",
    "\n",
    "datos_0 = pd.DataFrame([['Carmen', 26, 'F', 1743],\n",
    "                      ['Pedro', 39, 'M', 9264],\n",
    "                      ['Maria', 28, 'F', 8362],\n",
    "                      ['Julio', 35, 'M', 2537]],\n",
    "                      columns=columnas)\n",
    "\n",
    "datos_1 = pd.DataFrame([['Rodrigo', 43, 'M', 8374],\n",
    "                      ['Jose', 21, 'M', 8329],\n",
    "                      ['Ramon', 29, 'M', 9236],\n",
    "                      ['Susana', 34, 'F', 9836]],\n",
    "                      columns=columnas)\n",
    "\n",
    "datos_2 = pd.DataFrame([['Gabriela', 27, 'F', 1736],\n",
    "                      ['Carlos', 36, 'M', 3524],\n",
    "                      ['Samuel', 22, 'M', 9837],\n",
    "                      ['Jhon', 29, 'M', 7367]],\n",
    "                      columns=columnas)\n",
    "\n",
    "print(datos_2)"
   ]
  },
  {
   "cell_type": "markdown",
   "metadata": {},
   "source": [
    "Como pueden observar, podemos tener todas las tablas que querramos. \n",
    "En muchas ocasiones, tendremos muchos DataFrame. ¿Que pasaria si quisieramos concatenarlos a toddos?.\n",
    "Para esto tendremos que utilizar el metodo \"concat()\" ypasarle como argumento los DataFrame en una lista."
   ]
  },
  {
   "cell_type": "code",
   "execution_count": 3,
   "metadata": {},
   "outputs": [
    {
     "name": "stdout",
     "output_type": "stream",
     "text": [
      "     Nombre  Edad Genero    Id\n",
      "0    Carmen    26      F  1743\n",
      "1     Pedro    39      M  9264\n",
      "2     Maria    28      F  8362\n",
      "3     Julio    35      M  2537\n",
      "0   Rodrigo    43      M  8374\n",
      "1      Jose    21      M  8329\n",
      "2     Ramon    29      M  9236\n",
      "3    Susana    34      F  9836\n",
      "0  Gabriela    27      F  1736\n",
      "1    Carlos    36      M  3524\n",
      "2    Samuel    22      M  9837\n",
      "3      Jhon    29      M  7367\n"
     ]
    }
   ],
   "source": [
    "datos_concatenados = pd.concat([datos_0, datos_1, datos_2])\n",
    "print(datos_concatenados)"
   ]
  },
  {
   "cell_type": "markdown",
   "metadata": {},
   "source": [
    "Como pueden observar, el resultado es un DataFrame con toda la información de los creados anteriormente."
   ]
  },
  {
   "cell_type": "markdown",
   "metadata": {},
   "source": [
    "# Leer y Crear archivos CSV\n",
    "Una vez que tengamos los DataFrames con todos los datos, necesitaremos guardarlos para su uso posterior."
   ]
  },
  {
   "cell_type": "code",
   "execution_count": 4,
   "metadata": {},
   "outputs": [
    {
     "data": {
      "text/html": [
       "<div>\n",
       "<style scoped>\n",
       "    .dataframe tbody tr th:only-of-type {\n",
       "        vertical-align: middle;\n",
       "    }\n",
       "\n",
       "    .dataframe tbody tr th {\n",
       "        vertical-align: top;\n",
       "    }\n",
       "\n",
       "    .dataframe thead th {\n",
       "        text-align: right;\n",
       "    }\n",
       "</style>\n",
       "<table border=\"1\" class=\"dataframe\">\n",
       "  <thead>\n",
       "    <tr style=\"text-align: right;\">\n",
       "      <th></th>\n",
       "      <th>150</th>\n",
       "      <th>4</th>\n",
       "      <th>setosa</th>\n",
       "      <th>versicolor</th>\n",
       "      <th>virginica</th>\n",
       "    </tr>\n",
       "  </thead>\n",
       "  <tbody>\n",
       "    <tr>\n",
       "      <th>0</th>\n",
       "      <td>5.1</td>\n",
       "      <td>3.5</td>\n",
       "      <td>1.4</td>\n",
       "      <td>0.2</td>\n",
       "      <td>0</td>\n",
       "    </tr>\n",
       "    <tr>\n",
       "      <th>1</th>\n",
       "      <td>4.9</td>\n",
       "      <td>3.0</td>\n",
       "      <td>1.4</td>\n",
       "      <td>0.2</td>\n",
       "      <td>0</td>\n",
       "    </tr>\n",
       "    <tr>\n",
       "      <th>2</th>\n",
       "      <td>4.7</td>\n",
       "      <td>3.2</td>\n",
       "      <td>1.3</td>\n",
       "      <td>0.2</td>\n",
       "      <td>0</td>\n",
       "    </tr>\n",
       "    <tr>\n",
       "      <th>3</th>\n",
       "      <td>4.6</td>\n",
       "      <td>3.1</td>\n",
       "      <td>1.5</td>\n",
       "      <td>0.2</td>\n",
       "      <td>0</td>\n",
       "    </tr>\n",
       "    <tr>\n",
       "      <th>4</th>\n",
       "      <td>5.0</td>\n",
       "      <td>3.6</td>\n",
       "      <td>1.4</td>\n",
       "      <td>0.2</td>\n",
       "      <td>0</td>\n",
       "    </tr>\n",
       "  </tbody>\n",
       "</table>\n",
       "</div>"
      ],
      "text/plain": [
       "   150    4  setosa  versicolor  virginica\n",
       "0  5.1  3.5     1.4         0.2          0\n",
       "1  4.9  3.0     1.4         0.2          0\n",
       "2  4.7  3.2     1.3         0.2          0\n",
       "3  4.6  3.1     1.5         0.2          0\n",
       "4  5.0  3.6     1.4         0.2          0"
      ]
     },
     "execution_count": 4,
     "metadata": {},
     "output_type": "execute_result"
    }
   ],
   "source": [
    "import pandas as pd\n",
    "\n",
    "datos = pd.read_csv('./iris.csv')\n",
    "datos.head(5)"
   ]
  },
  {
   "cell_type": "markdown",
   "metadata": {},
   "source": [
    "Con esto, podres ver las primeras 5 columnas del archivo. El archivo que estoy utilizando como ejemplos es el conjunto de datis \"iris\", uno muy usado para probar algoritmos clasificiación y el analisis de datos.\n",
    "\n",
    "Bueno, con lo aprendido hoy, ya puedes crear tus propios conjuntos de datos y leer de manera muy facil.\n",
    "\n",
    "¿Alguna duda? ¿Con ganas de más? Dejanos tu comentario.\n",
    "\n",
    "Mi nombre es Luis, y fue un placer compartir mis conocimientos con todos ustedes :D."
   ]
  },
  {
   "cell_type": "code",
   "execution_count": null,
   "metadata": {},
   "outputs": [],
   "source": []
  }
 ],
 "metadata": {
  "kernelspec": {
   "display_name": "Python 3",
   "language": "python",
   "name": "python3"
  },
  "language_info": {
   "codemirror_mode": {
    "name": "ipython",
    "version": 3
   },
   "file_extension": ".py",
   "mimetype": "text/x-python",
   "name": "python",
   "nbconvert_exporter": "python",
   "pygments_lexer": "ipython3",
   "version": "3.6.4"
  }
 },
 "nbformat": 4,
 "nbformat_minor": 2
}
